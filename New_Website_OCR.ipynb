{
  "nbformat": 4,
  "nbformat_minor": 0,
  "metadata": {
    "colab": {
      "provenance": []
    },
    "kernelspec": {
      "name": "python3",
      "display_name": "Python 3"
    },
    "language_info": {
      "name": "python"
    }
  },
  "cells": [
    {
      "cell_type": "code",
      "source": [
        "from google.colab import drive\n",
        "drive.mount('/content/drive')"
      ],
      "metadata": {
        "colab": {
          "base_uri": "https://localhost:8080/"
        },
        "id": "uw3eksYbsrXh",
        "outputId": "dde4104a-e41c-400c-e881-49587e215f31"
      },
      "execution_count": null,
      "outputs": [
        {
          "output_type": "stream",
          "name": "stdout",
          "text": [
            "Drive already mounted at /content/drive; to attempt to forcibly remount, call drive.mount(\"/content/drive\", force_remount=True).\n"
          ]
        }
      ]
    },
    {
      "cell_type": "code",
      "source": [
        "!pip install pytesseract\n",
        "!pip install keras-ocr"
      ],
      "metadata": {
        "colab": {
          "base_uri": "https://localhost:8080/"
        },
        "id": "kB83jq_Q8hKo",
        "outputId": "a929fa30-1607-486a-f052-35d75cf6615b"
      },
      "execution_count": null,
      "outputs": [
        {
          "output_type": "stream",
          "name": "stdout",
          "text": [
            "Looking in indexes: https://pypi.org/simple, https://us-python.pkg.dev/colab-wheels/public/simple/\n",
            "Requirement already satisfied: pytesseract in /usr/local/lib/python3.10/dist-packages (0.3.10)\n",
            "Requirement already satisfied: packaging>=21.3 in /usr/local/lib/python3.10/dist-packages (from pytesseract) (23.1)\n",
            "Requirement already satisfied: Pillow>=8.0.0 in /usr/local/lib/python3.10/dist-packages (from pytesseract) (8.4.0)\n",
            "Looking in indexes: https://pypi.org/simple, https://us-python.pkg.dev/colab-wheels/public/simple/\n",
            "Requirement already satisfied: keras-ocr in /usr/local/lib/python3.10/dist-packages (0.8.9)\n",
            "Requirement already satisfied: editdistance in /usr/local/lib/python3.10/dist-packages (from keras-ocr) (0.6.2)\n",
            "Requirement already satisfied: efficientnet==1.0.0 in /usr/local/lib/python3.10/dist-packages (from keras-ocr) (1.0.0)\n",
            "Requirement already satisfied: essential_generators in /usr/local/lib/python3.10/dist-packages (from keras-ocr) (1.0)\n",
            "Requirement already satisfied: fonttools in /usr/local/lib/python3.10/dist-packages (from keras-ocr) (4.39.3)\n",
            "Requirement already satisfied: imgaug in /usr/local/lib/python3.10/dist-packages (from keras-ocr) (0.4.0)\n",
            "Requirement already satisfied: pyclipper in /usr/local/lib/python3.10/dist-packages (from keras-ocr) (1.3.0.post4)\n",
            "Requirement already satisfied: shapely in /usr/local/lib/python3.10/dist-packages (from keras-ocr) (2.0.1)\n",
            "Requirement already satisfied: tqdm in /usr/local/lib/python3.10/dist-packages (from keras-ocr) (4.65.0)\n",
            "Requirement already satisfied: validators in /usr/local/lib/python3.10/dist-packages (from keras-ocr) (0.20.0)\n",
            "Requirement already satisfied: keras-applications<=1.0.8,>=1.0.7 in /usr/local/lib/python3.10/dist-packages (from efficientnet==1.0.0->keras-ocr) (1.0.8)\n",
            "Requirement already satisfied: scikit-image in /usr/local/lib/python3.10/dist-packages (from efficientnet==1.0.0->keras-ocr) (0.19.3)\n",
            "Requirement already satisfied: six in /usr/local/lib/python3.10/dist-packages (from imgaug->keras-ocr) (1.16.0)\n",
            "Requirement already satisfied: numpy>=1.15 in /usr/local/lib/python3.10/dist-packages (from imgaug->keras-ocr) (1.22.4)\n",
            "Requirement already satisfied: scipy in /usr/local/lib/python3.10/dist-packages (from imgaug->keras-ocr) (1.10.1)\n",
            "Requirement already satisfied: Pillow in /usr/local/lib/python3.10/dist-packages (from imgaug->keras-ocr) (8.4.0)\n",
            "Requirement already satisfied: matplotlib in /usr/local/lib/python3.10/dist-packages (from imgaug->keras-ocr) (3.7.1)\n",
            "Requirement already satisfied: opencv-python in /usr/local/lib/python3.10/dist-packages (from imgaug->keras-ocr) (4.7.0.72)\n",
            "Requirement already satisfied: imageio in /usr/local/lib/python3.10/dist-packages (from imgaug->keras-ocr) (2.25.1)\n",
            "Requirement already satisfied: decorator>=3.4.0 in /usr/local/lib/python3.10/dist-packages (from validators->keras-ocr) (4.4.2)\n",
            "Requirement already satisfied: h5py in /usr/local/lib/python3.10/dist-packages (from keras-applications<=1.0.8,>=1.0.7->efficientnet==1.0.0->keras-ocr) (3.8.0)\n",
            "Requirement already satisfied: networkx>=2.2 in /usr/local/lib/python3.10/dist-packages (from scikit-image->efficientnet==1.0.0->keras-ocr) (3.1)\n",
            "Requirement already satisfied: tifffile>=2019.7.26 in /usr/local/lib/python3.10/dist-packages (from scikit-image->efficientnet==1.0.0->keras-ocr) (2023.4.12)\n",
            "Requirement already satisfied: PyWavelets>=1.1.1 in /usr/local/lib/python3.10/dist-packages (from scikit-image->efficientnet==1.0.0->keras-ocr) (1.4.1)\n",
            "Requirement already satisfied: packaging>=20.0 in /usr/local/lib/python3.10/dist-packages (from scikit-image->efficientnet==1.0.0->keras-ocr) (23.1)\n",
            "Requirement already satisfied: contourpy>=1.0.1 in /usr/local/lib/python3.10/dist-packages (from matplotlib->imgaug->keras-ocr) (1.0.7)\n",
            "Requirement already satisfied: cycler>=0.10 in /usr/local/lib/python3.10/dist-packages (from matplotlib->imgaug->keras-ocr) (0.11.0)\n",
            "Requirement already satisfied: kiwisolver>=1.0.1 in /usr/local/lib/python3.10/dist-packages (from matplotlib->imgaug->keras-ocr) (1.4.4)\n",
            "Requirement already satisfied: pyparsing>=2.3.1 in /usr/local/lib/python3.10/dist-packages (from matplotlib->imgaug->keras-ocr) (3.0.9)\n",
            "Requirement already satisfied: python-dateutil>=2.7 in /usr/local/lib/python3.10/dist-packages (from matplotlib->imgaug->keras-ocr) (2.8.2)\n"
          ]
        }
      ]
    },
    {
      "cell_type": "code",
      "source": [
        "!apt install tesseract-ocr\n",
        "!apt install libtesseract-dev\n",
        "!pip install pytesseract"
      ],
      "metadata": {
        "colab": {
          "base_uri": "https://localhost:8080/"
        },
        "id": "yNBHuCgl8vUQ",
        "outputId": "e11716f3-3026-40ee-93d5-944afe513e30"
      },
      "execution_count": null,
      "outputs": [
        {
          "output_type": "stream",
          "name": "stdout",
          "text": [
            "Reading package lists... Done\n",
            "Building dependency tree       \n",
            "Reading state information... Done\n",
            "tesseract-ocr is already the newest version (4.1.1-2build2).\n",
            "0 upgraded, 0 newly installed, 0 to remove and 34 not upgraded.\n",
            "Reading package lists... Done\n",
            "Building dependency tree       \n",
            "Reading state information... Done\n",
            "libtesseract-dev is already the newest version (4.1.1-2build2).\n",
            "0 upgraded, 0 newly installed, 0 to remove and 34 not upgraded.\n",
            "Looking in indexes: https://pypi.org/simple, https://us-python.pkg.dev/colab-wheels/public/simple/\n",
            "Requirement already satisfied: pytesseract in /usr/local/lib/python3.10/dist-packages (0.3.10)\n",
            "Requirement already satisfied: packaging>=21.3 in /usr/local/lib/python3.10/dist-packages (from pytesseract) (23.1)\n",
            "Requirement already satisfied: Pillow>=8.0.0 in /usr/local/lib/python3.10/dist-packages (from pytesseract) (8.4.0)\n"
          ]
        }
      ]
    },
    {
      "cell_type": "code",
      "source": [
        "image_path = '1.jpg'"
      ],
      "metadata": {
        "id": "NIvGZbe5h0Zx"
      },
      "execution_count": null,
      "outputs": []
    },
    {
      "cell_type": "code",
      "source": [
        "import cv2\n",
        "import pytesseract\n",
        "import os\n",
        "import csv\n",
        "from google.colab.patches import cv2_imshow\n",
        "import keras_ocr\n",
        "import shutil"
      ],
      "metadata": {
        "id": "G1p17SfaOI3k"
      },
      "execution_count": null,
      "outputs": []
    },
    {
      "cell_type": "code",
      "source": [
        "def mark_region(image_path):\n",
        "    image = cv2.imread(image_path, cv2.IMREAD_UNCHANGED)\n",
        "    gray = cv2.cvtColor(image, cv2.COLOR_BGR2GRAY)\n",
        "    kernel = cv2.getStructuringElement(cv2.MORPH_RECT, (5, 5))\n",
        "    gradient = cv2.morphologyEx(gray, cv2.MORPH_GRADIENT, kernel)\n",
        "    contours, _ = cv2.findContours(gradient, cv2.RETR_EXTERNAL, cv2.CHAIN_APPROX_SIMPLE)\n",
        "    boxes = []\n",
        "    for cnt in contours:\n",
        "        x, y, w, h = cv2.boundingRect(cnt)\n",
        "        boxes.append((x, y, w, h))  # Store the box coordinates as (x, y, width, height)\n",
        "        cv2.rectangle(image, (x, y), (x+w, y+h), (0, 0, 255), 2)\n",
        "    return image, boxes\n",
        "\n",
        "# Load the OCR pipeline\n",
        "pipeline = keras_ocr.pipeline.Pipeline()\n",
        "\n",
        "image_name = os.path.splitext(os.path.basename(image_path))[0]\n",
        "os.makedirs('/content/drive/MyDrive/Image Project', exist_ok=True)\n",
        "output_folder = os.path.join('/content/drive/MyDrive/Image Project', image_name)\n",
        "if os.path.exists(output_folder):\n",
        "    shutil.rmtree(output_folder)\n",
        "os.makedirs(output_folder, exist_ok=True)\n",
        "text_file = os.path.join(output_folder, 'text.csv')\n",
        "image_file = os.path.join(output_folder, 'image.csv')\n",
        "\n",
        "with open(text_file, 'w', newline='') as text_file, open(image_file, 'w', newline='') as image_file:\n",
        "    text_writer = csv.writer(text_file)\n",
        "    image_writer = csv.writer(image_file)\n",
        "    text_writer.writerow(['Text', 'X', 'Y', 'Width', 'Height'])\n",
        "    image_writer.writerow(['Image', 'X', 'Y', 'Width', 'Height'])\n",
        "\n",
        "    image, line_items_coordinates = mark_region(image_path)\n",
        "\n",
        "    if line_items_coordinates:\n",
        "        image_folder = os.path.join(output_folder, 'images')\n",
        "        text_folder = os.path.join(output_folder, 'text')\n",
        "        os.makedirs(image_folder, exist_ok=True)\n",
        "        os.makedirs(text_folder, exist_ok=True)\n",
        "        num = 1\n",
        "        for idx, c in enumerate(line_items_coordinates):\n",
        "            # Create a copy of the original image\n",
        "            img_copy = image.copy()\n",
        "            # Cropping image img = img_copy[y0:y1, x0:x1]\n",
        "            img = img_copy[c[1]:c[1]+c[3], c[0]:c[0]+c[2]]\n",
        "            # Convert the image to black and white for better OCR\n",
        "            gray = cv2.cvtColor(img, cv2.COLOR_BGR2GRAY)\n",
        "            ret, thresh1 = cv2.threshold(gray, 120, 255, cv2.THRESH_BINARY)\n",
        "            # Save the detected text and coordinates to the CSV file\n",
        "            text = pytesseract.image_to_string(thresh1, config='--psm 6')\n",
        "            if len(text) > 25:\n",
        "                img_path = os.path.join(image_folder, f'img{num}.jpg')\n",
        "                cv2.imwrite(img_path, img)\n",
        "                image_writer.writerow([f'img{num}.jpg', c[0], c[1], c[2], c[3]])\n",
        "                # Perform OCR on the image\n",
        "                img = cv2.cvtColor(img, cv2.COLOR_BGR2RGB)\n",
        "                prediction_groups = pipeline.recognize([img])\n",
        "                # Process the OCR results\n",
        "                predictions = prediction_groups[0]\n",
        "                num2 = 1\n",
        "                for prediction in predictions:\n",
        "                    text = prediction[0]\n",
        "                    if len(text)>2:\n",
        "                       bounding_box = prediction[1]\n",
        "                       # Convert bounding box to 'X', 'Y', 'Width', 'Height' format\n",
        "                       x = int(bounding_box[0][0])\n",
        "                       y = int(bounding_box[0][1])\n",
        "                       w = int(bounding_box[1][0] - bounding_box[0][0])\n",
        "                       h = int(bounding_box[2][1] - bounding_box[1][1])\n",
        "                       sub_box_img = img[y:y+h, x:x+w]\n",
        "                       sub_box_path = os.path.join(text_folder, f'text{num}_{num2}.jpg')\n",
        "                       if sub_box_img.size > 0:\n",
        "                          cv2.imwrite(sub_box_path, sub_box_img)\n",
        "                          # cv2_imshow(sub_box_img)\n",
        "                          text_writer.writerow([f'text{num}_{num2}.jpg', x, y, w, h])\n",
        "                          num2 += 1\n",
        "                num += 1\n",
        "    else:\n",
        "        print(\"No line items found in the image.\")"
      ],
      "metadata": {
        "id": "tNTrNMzgLxIb",
        "colab": {
          "base_uri": "https://localhost:8080/"
        },
        "outputId": "970033c1-425b-44cc-a6a9-ca9695802f2b"
      },
      "execution_count": null,
      "outputs": [
        {
          "output_type": "stream",
          "name": "stdout",
          "text": [
            "Looking for /root/.keras-ocr/craft_mlt_25k.h5\n",
            "Looking for /root/.keras-ocr/crnn_kurapan.h5\n",
            "1/1 [==============================] - 12s 12s/step\n",
            "1/1 [==============================] - 6s 6s/step\n",
            "1/1 [==============================] - 7s 7s/step\n",
            "1/1 [==============================] - 4s 4s/step\n",
            "1/1 [==============================] - 18s 18s/step\n",
            "1/1 [==============================] - 4s 4s/step\n"
          ]
        }
      ]
    },
    {
      "cell_type": "code",
      "source": [
        "import os\n",
        "import csv\n",
        "import math\n",
        "\n",
        "# Load the CSV file\n",
        "text_file = os.path.join(output_folder, 'text.csv')\n",
        "with open(text_file, 'r') as file:\n",
        "    reader = csv.reader(file)\n",
        "    next(reader)  # Skip the header row\n",
        "    data = list(reader)\n",
        "\n",
        "# Initialize merge groups dictionary\n",
        "merge_groups = {}\n",
        "\n",
        "# Set the maximum distance between images for merging\n",
        "max_distance = 5\n",
        "\n",
        "# Set the minimum distance between images for creating new merge group\n",
        "min_distance_threshold = 150\n",
        "\n",
        "# Iterate over the rows of the CSV data\n",
        "for row in data:\n",
        "    filename = row[0]\n",
        "    # print(filename)\n",
        "    group_found = False\n",
        "\n",
        "    # Extract num from filename\n",
        "    num = filename.split('_')[0].replace('text', '')\n",
        "\n",
        "    # Check if the filename exists in any merge group\n",
        "    for group_id, group_images in merge_groups.items():\n",
        "        group_num = group_images[0].split('_')[0].replace('text', '')\n",
        "\n",
        "        # If num matches group_num and the distance is within the threshold, add filename to the merge group\n",
        "        if num == group_num:\n",
        "            distances = []\n",
        "\n",
        "            # Calculate the distance between the filename and all images in the merge group\n",
        "            for image in group_images:\n",
        "                # Find the corresponding coordinates for the images\n",
        "                coordinate1 = None\n",
        "                coordinate2 = None\n",
        "                for row in data:\n",
        "                    if row[0] == filename:\n",
        "                        coordinate1 = [int(row[1]), int(row[2])]\n",
        "                    elif row[0] == image:\n",
        "                        coordinate2 = [int(row[1]), int(row[2])]\n",
        "\n",
        "                    if coordinate1 is not None and coordinate2 is not None:\n",
        "                        break\n",
        "\n",
        "                # Calculate the Euclidean distance between the coordinates\n",
        "                distance = math.sqrt((coordinate2[0] - coordinate1[0]) ** 2 + (coordinate2[1] - coordinate1[1]) ** 2)\n",
        "                distances.append(distance)\n",
        "\n",
        "            # Check if the minimum distance between the filename and all images in the merge group is greater than the threshold\n",
        "            if min(distances) <= min_distance_threshold:\n",
        "                group_images.append(filename)\n",
        "                group_found = True\n",
        "                break\n",
        "\n",
        "    # If the filename doesn't exist in any merge group or the minimum distance condition is not satisfied, create a new merge group\n",
        "    if not group_found:\n",
        "        merge_groups[filename] = [filename]\n",
        "\n",
        "# Calculate the distance between images in each merge group\n",
        "merge_group_coordinates = {}\n",
        "for group_images in merge_groups.values():\n",
        "    group_coordinates = []\n",
        "\n",
        "    # Find the corresponding coordinates for each image in the group\n",
        "    for image in group_images:\n",
        "        for row in data:\n",
        "            if row[0] == image:\n",
        "                coordinate = [int(row[1]), int(row[2]), int(row[1]) + int(row[3]), int(row[2]) + int(row[4])]\n",
        "                group_coordinates.append(coordinate)\n",
        "                break\n",
        "\n",
        "    # Find the minimum bounding box for the merge group\n",
        "    min_x = min(coordinate[0] for coordinate in group_coordinates)\n",
        "    min_y = min(coordinate[1] for coordinate in group_coordinates)\n",
        "    max_x = max(coordinate[2] for coordinate in group_coordinates)\n",
        "    max_y = max(coordinate[3] for coordinate in group_coordinates)\n",
        "\n",
        "    # Store the coordinate for the merge group using the first image filename as the key\n",
        "    merge_group_coordinates[group_images[0]] = [min_x, min_y, max_x - min_x, max_y - min_y]\n",
        "\n",
        "# Display the merge group coordinates\n",
        "for group_id, coordinates in merge_group_coordinates.items():\n",
        "    print(f\"Group {group_id}: {coordinates}\")\n"
      ],
      "metadata": {
        "colab": {
          "base_uri": "https://localhost:8080/"
        },
        "id": "mvrH2s7l5lBB",
        "outputId": "e799f1b9-497d-466c-9883-1d7d1ee601be"
      },
      "execution_count": null,
      "outputs": [
        {
          "output_type": "stream",
          "name": "stdout",
          "text": [
            "Group text1_1.jpg: [25, 218, 321, 88]\n",
            "Group text2_1.jpg: [25, 221, 298, 85]\n",
            "Group text3_1.jpg: [25, 273, 368, 100]\n",
            "Group text3_2.jpg: [253, 273, 362, 60]\n",
            "Group text3_4.jpg: [623, 273, 75, 26]\n"
          ]
        }
      ]
    },
    {
      "cell_type": "code",
      "source": [
        "text_file = os.path.join(output_folder, 'text.csv')\n",
        "os.remove(text_file)\n",
        "import shutil\n",
        "import pandas as pd\n",
        "shutil.rmtree(text_folder)\n",
        "text_folder = os.path.join(output_folder,'text')\n",
        "os.makedirs(text_folder, exist_ok=True)"
      ],
      "metadata": {
        "id": "ehmR3t-Ycrvy"
      },
      "execution_count": null,
      "outputs": []
    },
    {
      "cell_type": "code",
      "source": [
        "import pandas as pd\n",
        "new_dict = {}\n",
        "image_list = []\n",
        "x_list = []\n",
        "y_list = []\n",
        "width_list = []\n",
        "height_list = []\n",
        "i = 0\n",
        "for key, value in merge_group_coordinates.items():\n",
        "    new_key = key.replace('text', 'img')\n",
        "    new_key = new_key[:4]+'.jpg'\n",
        "    new_dict[new_key] = value\n",
        "    img_path = os.path.join(image_folder,new_key)\n",
        "    img = cv2.imread(img_path)\n",
        "    cropped_image = img[value[1]:value[1]+value[3],value[0]:value[0]+value[2]]\n",
        "    save_image_name = f'text{i}.jpg'\n",
        "    save_image_path = os.path.join(text_folder,save_image_name)\n",
        "    print(save_image_path)\n",
        "    cv2.imwrite(save_image_path,cropped_image)\n",
        "    # Append the values to the respective lists\n",
        "    image_list.append(save_image_name)\n",
        "    x_list.append(value[0])\n",
        "    y_list.append(value[1])\n",
        "    width_list.append(value[2])\n",
        "    height_list.append(value[3])\n",
        "    i += 1\n",
        "\n",
        "df = pd.DataFrame({'Image': image_list, 'x': x_list, 'y': y_list, 'width': width_list, 'height': height_list})\n",
        "df.to_csv(text_file, index=False)"
      ],
      "metadata": {
        "id": "kZ3eQim3ZkBK",
        "colab": {
          "base_uri": "https://localhost:8080/"
        },
        "outputId": "20f687e4-f21c-45d1-a707-81c305a0d427"
      },
      "execution_count": null,
      "outputs": [
        {
          "output_type": "stream",
          "name": "stdout",
          "text": [
            "/content/drive/MyDrive/Image Project/1/text/text0.jpg\n",
            "/content/drive/MyDrive/Image Project/1/text/text1.jpg\n",
            "/content/drive/MyDrive/Image Project/1/text/text2.jpg\n",
            "/content/drive/MyDrive/Image Project/1/text/text3.jpg\n",
            "/content/drive/MyDrive/Image Project/1/text/text4.jpg\n"
          ]
        }
      ]
    }
  ]
}